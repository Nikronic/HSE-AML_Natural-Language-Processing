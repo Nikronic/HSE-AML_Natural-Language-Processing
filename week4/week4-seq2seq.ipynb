{
  "nbformat": 4,
  "nbformat_minor": 0,
  "metadata": {
    "colab": {
      "name": "week4-seq2seq.ipynb",
      "version": "0.3.2",
      "provenance": [],
      "collapsed_sections": []
    },
    "kernelspec": {
      "name": "python3",
      "display_name": "Python 3"
    },
    "accelerator": "GPU"
  },
  "cells": [
    {
      "metadata": {
        "id": "fJW9SW_I02Ea",
        "colab_type": "text"
      },
      "cell_type": "markdown",
      "source": [
        "# Learn to calculate with seq2seq model\n",
        "\n",
        "In this assignment, you will learn how to use neural networks to solve sequence-to-sequence prediction tasks. Seq2Seq models are very popular these days because they achieve great results in Machine Translation, Text Summarization, Conversational Modeling and more.\n",
        "\n",
        "Using sequence-to-sequence modeling you are going to build a calculator for evaluating arithmetic expressions, by taking an equation as an input to the neural network and producing an answer as it's output.\n",
        "\n",
        "The resulting solution for this problem will be based on state-of-the-art approaches for sequence-to-sequence learning and you should be able to easily adapt it to solve other tasks. However, if you want to train your own machine translation system or intellectual chat bot, it would be useful to have access to compute resources like GPU, and be patient, because training of such systems is usually time consuming. \n",
        "\n",
        "### Libraries\n",
        "\n",
        "For this task you will need the following libraries:\n",
        " - [TensorFlow](https://www.tensorflow.org) — an open-source software library for Machine Intelligence.\n",
        " - [scikit-learn](http://scikit-learn.org/stable/index.html) — a tool for data mining and data analysis.\n",
        " \n",
        "If you have never worked with TensorFlow, you will probably want to read some tutorials during your work on this assignment, e.g. [Neural Machine Translation](https://www.tensorflow.org/tutorials/seq2seq) tutorial deals with very similar task and can explain some concepts to you. "
      ]
    },
    {
      "metadata": {
        "id": "zCG_b2c_1WWO",
        "colab_type": "code",
        "outputId": "ffe02f50-0068-4914-c3fb-9fc36257d89e",
        "colab": {
          "base_uri": "https://localhost:8080/",
          "height": 204
        }
      },
      "cell_type": "code",
      "source": [
        "! wget https://raw.githubusercontent.com/hse-aml/natural-language-processing/master/setup_google_colab.py -O setup_google_colab.py\n",
        "import setup_google_colab\n",
        "setup_google_colab.setup_week4()"
      ],
      "execution_count": 2,
      "outputs": [
        {
          "output_type": "stream",
          "text": [
            "--2018-12-21 21:22:36--  https://raw.githubusercontent.com/hse-aml/natural-language-processing/master/setup_google_colab.py\n",
            "Resolving raw.githubusercontent.com (raw.githubusercontent.com)... 151.101.0.133, 151.101.64.133, 151.101.128.133, ...\n",
            "Connecting to raw.githubusercontent.com (raw.githubusercontent.com)|151.101.0.133|:443... connected.\n",
            "HTTP request sent, awaiting response... 200 OK\n",
            "Length: 2330 (2.3K) [text/plain]\n",
            "Saving to: ‘setup_google_colab.py’\n",
            "\n",
            "\rsetup_google_colab.   0%[                    ]       0  --.-KB/s               \rsetup_google_colab. 100%[===================>]   2.28K  --.-KB/s    in 0s      \n",
            "\n",
            "2018-12-21 21:22:36 (45.9 MB/s) - ‘setup_google_colab.py’ saved [2330/2330]\n",
            "\n"
          ],
          "name": "stdout"
        }
      ]
    },
    {
      "metadata": {
        "id": "aA8zlb_L02Eh",
        "colab_type": "text"
      },
      "cell_type": "markdown",
      "source": [
        "### Data\n",
        "\n",
        "One benefit of this task is that you don't need to download any data — you will generate it on your own! We will use two operators (addition and subtraction) and work with positive integer numbers in some range. Here are examples of correct inputs and outputs:\n",
        "\n",
        "    Input: '1+2'\n",
        "    Output: '3'\n",
        "    \n",
        "    Input: '0-99'\n",
        "    Output: '-99'\n",
        "\n",
        "*Note, that there are no spaces between operators and operands.*\n",
        "\n",
        "\n",
        "Now you need to implement the function *generate_equations*, which will be used to generate the data."
      ]
    },
    {
      "metadata": {
        "id": "BzMybQF102Ek",
        "colab_type": "code",
        "colab": {}
      },
      "cell_type": "code",
      "source": [
        "import random"
      ],
      "execution_count": 0,
      "outputs": []
    },
    {
      "metadata": {
        "id": "G8_Q9WHL02Eu",
        "colab_type": "code",
        "colab": {}
      },
      "cell_type": "code",
      "source": [
        "def generate_equations(allowed_operators, dataset_size, min_value, max_value):\n",
        "    \"\"\"Generates pairs of equations and solutions to them.\n",
        "    \n",
        "       Each equation has a form of two integers with an operator in between.\n",
        "       Each solution is an integer with the result of the operaion.\n",
        "    \n",
        "        allowed_operators: list of strings, allowed operators.\n",
        "        dataset_size: an integer, number of equations to be generated.\n",
        "        min_value: an integer, min value of each operand.\n",
        "        max_value: an integer, max value of each operand.\n",
        "\n",
        "        result: a list of tuples of strings (equation, solution).\n",
        "    \"\"\"\n",
        "    sample = []\n",
        "    for _ in range(dataset_size):\n",
        "        ######################################\n",
        "        ######### YOUR CODE HERE #############\n",
        "        ######################################\n",
        "        operator = allowed_operators[random.randrange(start=0, stop=len(allowed_operators))]\n",
        "        operand_a, operand_b = random.randrange(start=min_value, stop=max_value), random.randrange(start=min_value, stop=max_value)\n",
        "        \n",
        "        in_str = str(operand_a)+operator+str(operand_b)\n",
        "        \n",
        "        if operator == '+':\n",
        "          answer = operand_a + operand_b\n",
        "        elif operator == '-':\n",
        "          answer = operand_a - operand_b\n",
        "        elif operator == '*':\n",
        "          answer = operand_a * operand_b\n",
        "        elif operator == '/':\n",
        "          answer = operand_a / operand_b\n",
        "        else :\n",
        "          raise Exception('Invalid operator')\n",
        "        \n",
        "        out_str = str(answer)\n",
        "        \n",
        "        sample.append((in_str, out_str))\n",
        "        \n",
        "    return sample"
      ],
      "execution_count": 0,
      "outputs": []
    },
    {
      "metadata": {
        "id": "6P2c9U0902E3",
        "colab_type": "text"
      },
      "cell_type": "markdown",
      "source": [
        "To check the correctness of your implementation, use *test_generate_equations* function:"
      ]
    },
    {
      "metadata": {
        "id": "R69LNcQY02E6",
        "colab_type": "code",
        "colab": {}
      },
      "cell_type": "code",
      "source": [
        "def test_generate_equations():\n",
        "    allowed_operators = ['+', '-']\n",
        "    dataset_size = 10\n",
        "    for (input_, output_) in generate_equations(allowed_operators, dataset_size, 0, 100):\n",
        "        if not (type(input_) is str and type(output_) is str):\n",
        "            return \"Both parts should be strings.\"\n",
        "        if eval(input_) != int(output_):\n",
        "            return \"The (equation: {!r}, solution: {!r}) pair is incorrect.\".format(input_, output_)\n",
        "    return \"Tests passed.\""
      ],
      "execution_count": 0,
      "outputs": []
    },
    {
      "metadata": {
        "id": "j2qqA2eW02FC",
        "colab_type": "code",
        "outputId": "8a3e8749-c857-471c-e1f7-30c5065e5cc4",
        "colab": {
          "base_uri": "https://localhost:8080/",
          "height": 34
        }
      },
      "cell_type": "code",
      "source": [
        "print(test_generate_equations())"
      ],
      "execution_count": 6,
      "outputs": [
        {
          "output_type": "stream",
          "text": [
            "Tests passed.\n"
          ],
          "name": "stdout"
        }
      ]
    },
    {
      "metadata": {
        "id": "ztReuW-S02FK",
        "colab_type": "text"
      },
      "cell_type": "markdown",
      "source": [
        "Finally, we are ready to generate the train and test data for the neural network:"
      ]
    },
    {
      "metadata": {
        "id": "cHnB4Fva02FN",
        "colab_type": "code",
        "colab": {}
      },
      "cell_type": "code",
      "source": [
        "from sklearn.model_selection import train_test_split"
      ],
      "execution_count": 0,
      "outputs": []
    },
    {
      "metadata": {
        "id": "0Rgec_cw02FW",
        "colab_type": "code",
        "colab": {}
      },
      "cell_type": "code",
      "source": [
        "allowed_operators = ['+', '-']\n",
        "dataset_size = 100000\n",
        "data = generate_equations(allowed_operators, dataset_size, min_value=0, max_value=9999)\n",
        "\n",
        "train_set, test_set = train_test_split(data, test_size=0.2, random_state=42)"
      ],
      "execution_count": 0,
      "outputs": []
    },
    {
      "metadata": {
        "id": "6Aack62G02Fe",
        "colab_type": "text"
      },
      "cell_type": "markdown",
      "source": [
        "## Prepare data for the neural network\n",
        "\n",
        "The next stage of data preparation is creating mappings of the characters to their indices in some vocabulary. Since in our task we already know which symbols will appear in the inputs and outputs, generating the vocabulary is a simple step.\n",
        "\n",
        "#### How to create dictionaries for other task\n",
        "\n",
        "First of all, you need to understand what is the basic unit of the sequence in your task. In our case, we operate on symbols and the basic unit is a symbol. The number of symbols is small, so we don't need to think about filtering/normalization steps. However, in other tasks, the basic unit is often a word, and in this case the mapping would be *word $\\to$ integer*. The number of words might be huge, so it would be reasonable to filter them, for example, by frequency and leave only the frequent ones. Other strategies that your should consider are: data normalization (lowercasing, tokenization, how to consider punctuation marks), separate vocabulary for input and for output (e.g. for machine translation), some specifics of the task."
      ]
    },
    {
      "metadata": {
        "id": "5n5U1XY502Fj",
        "colab_type": "code",
        "colab": {}
      },
      "cell_type": "code",
      "source": [
        "word2id = {symbol:i for i, symbol in enumerate('#^$+-1234567890')}\n",
        "id2word = {i:symbol for symbol, i in word2id.items()}"
      ],
      "execution_count": 0,
      "outputs": []
    },
    {
      "metadata": {
        "id": "paV4JckB531b",
        "colab_type": "code",
        "outputId": "b225afad-fbfe-4b4b-95ce-42c4360e5fe1",
        "colab": {
          "base_uri": "https://localhost:8080/",
          "height": 272
        }
      },
      "cell_type": "code",
      "source": [
        "for i,w in enumerate(word2id):\n",
        "  print(w,\":\",i)"
      ],
      "execution_count": 10,
      "outputs": [
        {
          "output_type": "stream",
          "text": [
            "# : 0\n",
            "^ : 1\n",
            "$ : 2\n",
            "+ : 3\n",
            "- : 4\n",
            "1 : 5\n",
            "2 : 6\n",
            "3 : 7\n",
            "4 : 8\n",
            "5 : 9\n",
            "6 : 10\n",
            "7 : 11\n",
            "8 : 12\n",
            "9 : 13\n",
            "0 : 14\n"
          ],
          "name": "stdout"
        }
      ]
    },
    {
      "metadata": {
        "id": "i14mjOSn02Fr",
        "colab_type": "text"
      },
      "cell_type": "markdown",
      "source": [
        "#### Special symbols"
      ]
    },
    {
      "metadata": {
        "id": "xWgcMaxn02Ft",
        "colab_type": "code",
        "colab": {}
      },
      "cell_type": "code",
      "source": [
        "start_symbol = '^'\n",
        "end_symbol = '$'\n",
        "padding_symbol = '#'"
      ],
      "execution_count": 0,
      "outputs": []
    },
    {
      "metadata": {
        "id": "yFaSSpos02F3",
        "colab_type": "text"
      },
      "cell_type": "markdown",
      "source": [
        "You could notice that we have added 3 special symbols: '^', '\\$' and '#':\n",
        "- '^' symbol will be passed to the network to indicate the beginning of the decoding procedure. We will discuss this one later in more details.\n",
        "- '\\$' symbol will be used to indicate the *end of a string*, both for input and output sequences. \n",
        "- '#' symbol will be used as a *padding* character to make lengths of all strings equal within one training batch.\n",
        "\n",
        "People have a bit different habits when it comes to special symbols in encoder-decoder networks, so don't get too much confused if you come across other variants in tutorials you read. "
      ]
    },
    {
      "metadata": {
        "id": "HEC72tiQ02F6",
        "colab_type": "text"
      },
      "cell_type": "markdown",
      "source": [
        "#### Padding"
      ]
    },
    {
      "metadata": {
        "id": "USC_4auI02F8",
        "colab_type": "text"
      },
      "cell_type": "markdown",
      "source": [
        "When vocabularies are ready, we need to be able to convert a sentence to a list of vocabulary word indices and back. At the same time, let's care about padding. We are going to preprocess each sequence from the input (and output ground truth) in such a way that:\n",
        "- it has a predefined length *padded_len*\n",
        "- it is probably cut off or padded with the *padding symbol* '#'\n",
        "- it *always* ends with the *end symbol* '$'\n",
        "\n",
        "We will treat the original characters of the sequence **and the end symbol** as the valid part of the input. We will store *the actual length* of the sequence, which includes the end symbol, but does not include the padding symbols. "
      ]
    },
    {
      "metadata": {
        "id": "5XX2fetP02F-",
        "colab_type": "text"
      },
      "cell_type": "markdown",
      "source": [
        " Now you need to implement the function *sentence_to_ids* that does the described job. "
      ]
    },
    {
      "metadata": {
        "id": "CvjXD8Ec02GF",
        "colab_type": "code",
        "colab": {}
      },
      "cell_type": "code",
      "source": [
        "def sentence_to_ids(sentence, word2id, padded_len):\n",
        "    \"\"\" Converts a sequence of symbols to a padded sequence of their ids.\n",
        "    \n",
        "      sentence: a string, input/output sequence of symbols.\n",
        "      word2id: a dict, a mapping from original symbols to ids.\n",
        "      padded_len: an integer, a desirable length of the sequence.\n",
        "\n",
        "      result: a tuple of (a list of ids, an actual length of sentence).\n",
        "    \"\"\"\n",
        "    ######### YOUR CODE HERE #############\n",
        "    sent_ids = [word2id[w] for w in sentence[:padded_len-1]]\n",
        "    dif =len(sentence) - (padded_len-1)\n",
        "    sent_ids.append(word2id['$'])\n",
        "    if dif < 0:\n",
        "      for i in range(abs(dif)):\n",
        "        sent_ids.append(word2id['#'])\n",
        "    sent_len = [len(sentence)+1 if padded_len>= len(sentence)+1 else padded_len]\n",
        "    \n",
        "    return sent_ids, sent_len[0]"
      ],
      "execution_count": 0,
      "outputs": []
    },
    {
      "metadata": {
        "id": "r2kw4dSV02GM",
        "colab_type": "text"
      },
      "cell_type": "markdown",
      "source": [
        "Check that your implementation is correct:"
      ]
    },
    {
      "metadata": {
        "id": "jaYR1Onq02GP",
        "colab_type": "code",
        "colab": {}
      },
      "cell_type": "code",
      "source": [
        "def test_sentence_to_ids():\n",
        "    sentences = [(\"123+123\", 7), (\"123+123\", 8), (\"123+123\", 10)]\n",
        "    expected_output = [([5, 6, 7, 3, 5, 6, 2], 7), \n",
        "                       ([5, 6, 7, 3, 5, 6, 7, 2], 8), \n",
        "                       ([5, 6, 7, 3, 5, 6, 7, 2, 0, 0], 8)] \n",
        "    for (sentence, padded_len), (sentence_ids, expected_length) in zip(sentences, expected_output):\n",
        "        output, length = sentence_to_ids(sentence, word2id, padded_len)\n",
        "        if output != sentence_ids:\n",
        "            return(\"Convertion of '{}' for padded_len={} to {} is incorrect.\".format(\n",
        "                sentence, padded_len, output))\n",
        "        if length != expected_length:\n",
        "            return(\"Convertion of '{}' for padded_len={} has incorrect actual length {}.\".format(\n",
        "                sentence, padded_len, length))\n",
        "    return(\"Tests passed.\")"
      ],
      "execution_count": 0,
      "outputs": []
    },
    {
      "metadata": {
        "id": "KZprXxIJ02GX",
        "colab_type": "code",
        "outputId": "4cfb91a3-5324-4ec9-e5ac-0cc1feaa920d",
        "colab": {
          "base_uri": "https://localhost:8080/",
          "height": 34
        }
      },
      "cell_type": "code",
      "source": [
        "print(test_sentence_to_ids())"
      ],
      "execution_count": 14,
      "outputs": [
        {
          "output_type": "stream",
          "text": [
            "Tests passed.\n"
          ],
          "name": "stdout"
        }
      ]
    },
    {
      "metadata": {
        "id": "N97NfaTj02Gd",
        "colab_type": "text"
      },
      "cell_type": "markdown",
      "source": [
        "We also need to be able to get back from indices to symbols:"
      ]
    },
    {
      "metadata": {
        "id": "FR8rCXqn02Gg",
        "colab_type": "code",
        "colab": {}
      },
      "cell_type": "code",
      "source": [
        "def ids_to_sentence(ids, id2word):\n",
        "    \"\"\" Converts a sequence of ids to a sequence of symbols.\n",
        "    \n",
        "          ids: a list, indices for the padded sequence.\n",
        "          id2word:  a dict, a mapping from ids to original symbols.\n",
        "\n",
        "          result: a list of symbols.\n",
        "    \"\"\"\n",
        " \n",
        "    return [id2word[i] for i in ids] "
      ],
      "execution_count": 0,
      "outputs": []
    },
    {
      "metadata": {
        "id": "WUlBNROW02Gp",
        "colab_type": "text"
      },
      "cell_type": "markdown",
      "source": [
        "#### Generating batches"
      ]
    },
    {
      "metadata": {
        "id": "1glO3OJQ02Gr",
        "colab_type": "text"
      },
      "cell_type": "markdown",
      "source": [
        "The final step of data preparation is a function that transforms a batch of sentences to a list of lists of indices. "
      ]
    },
    {
      "metadata": {
        "id": "Nr_0U5re02Gv",
        "colab_type": "code",
        "colab": {}
      },
      "cell_type": "code",
      "source": [
        "def batch_to_ids(sentences, word2id, max_len):\n",
        "    \"\"\"Prepares batches of indices. \n",
        "    \n",
        "       Sequences are padded to match the longest sequence in the batch,\n",
        "       if it's longer than max_len, then max_len is used instead.\n",
        "\n",
        "        sentences: a list of strings, original sequences.\n",
        "        word2id: a dict, a mapping from original symbols to ids.\n",
        "        max_len: an integer, max len of sequences allowed.\n",
        "\n",
        "        result: a list of lists of ids, a list of actual lengths.\n",
        "    \"\"\"\n",
        "    \n",
        "    max_len_in_batch = min(max(len(s) for s in sentences) + 1, max_len)\n",
        "    batch_ids, batch_ids_len = [], []\n",
        "    for sentence in sentences:\n",
        "        ids, ids_len = sentence_to_ids(sentence, word2id, max_len_in_batch)\n",
        "        batch_ids.append(ids)\n",
        "        batch_ids_len.append(ids_len)\n",
        "    return batch_ids, batch_ids_len"
      ],
      "execution_count": 0,
      "outputs": []
    },
    {
      "metadata": {
        "id": "yl0fE7d402G8",
        "colab_type": "text"
      },
      "cell_type": "markdown",
      "source": [
        "The function *generate_batches* will help to generate batches with defined size from given samples."
      ]
    },
    {
      "metadata": {
        "id": "BHezvVNh02G-",
        "colab_type": "code",
        "colab": {}
      },
      "cell_type": "code",
      "source": [
        "def generate_batches(samples, batch_size=64):\n",
        "    X, Y = [], []\n",
        "    for i, (x, y) in enumerate(samples, 1):\n",
        "        X.append(x)\n",
        "        Y.append(y)\n",
        "        if i % batch_size == 0:\n",
        "            yield X, Y\n",
        "            X, Y = [], []\n",
        "    if X and Y:\n",
        "        yield X, Y"
      ],
      "execution_count": 0,
      "outputs": []
    },
    {
      "metadata": {
        "id": "gXpbPwUu02HM",
        "colab_type": "text"
      },
      "cell_type": "markdown",
      "source": [
        "To illustrate the result of the implemented functions, run the following cell:"
      ]
    },
    {
      "metadata": {
        "id": "2OIWhOVa02HN",
        "colab_type": "code",
        "outputId": "5c22fce7-27ca-4de3-c3eb-0fc4ae74d6d8",
        "colab": {
          "base_uri": "https://localhost:8080/",
          "height": 68
        }
      },
      "cell_type": "code",
      "source": [
        "sentences = train_set[85]\n",
        "ids, sent_lens = batch_to_ids(sentences, word2id, max_len=10)\n",
        "print('Input:', sentences)\n",
        "print('Ids: {}\\nSentences lengths: {}'.format(ids, sent_lens))"
      ],
      "execution_count": 18,
      "outputs": [
        {
          "output_type": "stream",
          "text": [
            "Input: ('9289-6037', '3252')\n",
            "Ids: [[13, 6, 12, 13, 4, 10, 14, 7, 11, 2], [7, 6, 9, 6, 2, 0, 0, 0, 0, 0]]\n",
            "Sentences lengths: [10, 5]\n"
          ],
          "name": "stdout"
        }
      ]
    },
    {
      "metadata": {
        "id": "D7Lk9CDt02HU",
        "colab_type": "text"
      },
      "cell_type": "markdown",
      "source": [
        "## Encoder-Decoder architecture\n",
        "\n",
        "Encoder-Decoder is a successful architecture for Seq2Seq tasks with different lengths of input and output sequences. The main idea is to use two recurrent neural networks, where the first neural network *encodes* the input sequence into a real-valued vector and then the second neural network *decodes* this vector into the output sequence. While building the neural network, we will specify some particular characteristics of this architecture."
      ]
    },
    {
      "metadata": {
        "id": "wDg09ivD02HV",
        "colab_type": "code",
        "colab": {}
      },
      "cell_type": "code",
      "source": [
        "import tensorflow as tf"
      ],
      "execution_count": 0,
      "outputs": []
    },
    {
      "metadata": {
        "id": "aTlHDmsR02He",
        "colab_type": "text"
      },
      "cell_type": "markdown",
      "source": [
        "Let us use TensorFlow building blocks to specify the network architecture."
      ]
    },
    {
      "metadata": {
        "id": "6vj1cqM-02Hf",
        "colab_type": "code",
        "colab": {}
      },
      "cell_type": "code",
      "source": [
        "class Seq2SeqModel(object):\n",
        "    pass"
      ],
      "execution_count": 0,
      "outputs": []
    },
    {
      "metadata": {
        "id": "duCAS9kI02Hl",
        "colab_type": "text"
      },
      "cell_type": "markdown",
      "source": [
        "First, we need to create [placeholders](https://www.tensorflow.org/api_guides/python/io_ops#Placeholders) to specify what data we are going to feed into the network during the execution time. For this task we will need:\n",
        " - *input_batch* — sequences of sentences (the shape will equal to [batch_size, max_sequence_len_in_batch]);\n",
        " - *input_batch_lengths* — lengths of not padded sequences (the shape equals to [batch_size]);\n",
        " - *ground_truth* — sequences of groundtruth (the shape will equal to [batch_size, max_sequence_len_in_batch]);\n",
        " - *ground_truth_lengths* — lengths of not padded groundtruth sequences (the shape equals to [batch_size]);\n",
        " - *dropout_ph* — dropout keep probability; this placeholder has a predifined value 1;\n",
        " - *learning_rate_ph* — learning rate."
      ]
    },
    {
      "metadata": {
        "id": "rJyIw2kq02Hn",
        "colab_type": "code",
        "colab": {}
      },
      "cell_type": "code",
      "source": [
        "def declare_placeholders(self):\n",
        "    \"\"\"Specifies placeholders for the model.\"\"\"\n",
        "    \n",
        "    # Placeholders for input and its actual lengths.\n",
        "    self.input_batch = tf.placeholder(shape=(None, None), dtype=tf.int32, name='input_batch')\n",
        "    self.input_batch_lengths = tf.placeholder(shape=(None, ), dtype=tf.int32, name='input_batch_lengths')\n",
        "    \n",
        "    # Placeholders for groundtruth and its actual lengths.\n",
        "    self.ground_truth = tf.placeholder(shape=(None, None), dtype = tf.int32, name='ground_truth')\n",
        "    self.ground_truth_lengths = tf.placeholder(shape=(None,), dtype =tf.int32, name='gound_truth_lengths')\n",
        "        \n",
        "    self.dropout_ph = tf.placeholder_with_default(tf.cast(1.0, tf.float32), shape=[])\n",
        "    self.learning_rate_ph = tf.placeholder(dtype=tf.float32, shape=[])"
      ],
      "execution_count": 0,
      "outputs": []
    },
    {
      "metadata": {
        "id": "lVQd66lM02Ht",
        "colab_type": "code",
        "colab": {}
      },
      "cell_type": "code",
      "source": [
        "Seq2SeqModel.__declare_placeholders = classmethod(declare_placeholders)"
      ],
      "execution_count": 0,
      "outputs": []
    },
    {
      "metadata": {
        "id": "7uvbPSkj02Hy",
        "colab_type": "text"
      },
      "cell_type": "markdown",
      "source": [
        "Now, let us specify the layers of the neural network. First, we need to prepare an embedding matrix. Since we use the same vocabulary for input and output, we need only one such matrix. For tasks with different vocabularies there would be multiple embedding layers.\n",
        "- Create embeddings matrix with [tf.Variable](https://www.tensorflow.org/api_docs/python/tf/Variable). Specify its name, type (tf.float32), and initialize with random values.\n",
        "- Perform [embeddings lookup](https://www.tensorflow.org/api_docs/python/tf/nn/embedding_lookup) for a given input batch."
      ]
    },
    {
      "metadata": {
        "id": "VpcUmLH302H0",
        "colab_type": "code",
        "colab": {}
      },
      "cell_type": "code",
      "source": [
        "def create_embeddings(self, vocab_size, embeddings_size):\n",
        "    \"\"\"Specifies embeddings layer and embeds an input batch.\"\"\"\n",
        "     \n",
        "    random_initializer = tf.random_uniform((vocab_size, embeddings_size), -1.0, 1.0)\n",
        "    self.embeddings = tf.Variable(initial_value= random_initializer, dtype=tf.float32, name='embeddings')\n",
        "    \n",
        "    # Perform embeddings lookup for self.input_batch. \n",
        "    self.input_batch_embedded = tf.nn.embedding_lookup(params=self.embeddings, ids=self.input_batch)"
      ],
      "execution_count": 0,
      "outputs": []
    },
    {
      "metadata": {
        "id": "eHS3qTqg02H7",
        "colab_type": "code",
        "colab": {}
      },
      "cell_type": "code",
      "source": [
        "Seq2SeqModel.__create_embeddings = classmethod(create_embeddings)"
      ],
      "execution_count": 0,
      "outputs": []
    },
    {
      "metadata": {
        "id": "nXw3sRTl02IC",
        "colab_type": "text"
      },
      "cell_type": "markdown",
      "source": [
        "#### Encoder\n",
        "\n",
        "The first RNN of the current architecture is called an *encoder* and serves for encoding an input sequence to a real-valued vector. Input of this RNN is an embedded input batch. Since sentences in the same batch could have different actual lengths, we also provide input lengths to avoid unnecessary computations. The final encoder state will be passed to the second RNN (decoder), which we will create soon. \n",
        "\n",
        "- TensorFlow provides a number of [RNN cells](https://www.tensorflow.org/api_guides/python/contrib.rnn#Core_RNN_Cells_for_use_with_TensorFlow_s_core_RNN_methods) ready for use. We suggest that you use [GRU cell](https://www.tensorflow.org/api_docs/python/tf/contrib/rnn/GRUCell), but you can also experiment with other types. \n",
        "- Wrap your cells with [DropoutWrapper](https://www.tensorflow.org/api_docs/python/tf/contrib/rnn/DropoutWrapper). Dropout is an important regularization technique for neural networks. Specify input keep probability using the dropout placeholder that we created before.\n",
        "- Combine the defined encoder cells with [Dynamic RNN](https://www.tensorflow.org/api_docs/python/tf/nn/dynamic_rnn). Use the embedded input batches and their lengths here.\n",
        "- Use *dtype=tf.float32* everywhere."
      ]
    },
    {
      "metadata": {
        "id": "dGd1NA2502ID",
        "colab_type": "code",
        "colab": {}
      },
      "cell_type": "code",
      "source": [
        "def build_encoder(self, hidden_size):\n",
        "    \"\"\"Specifies encoder architecture and computes its output.\"\"\"\n",
        "    \n",
        "    # Create GRUCell with dropout.\n",
        "    encoder_cell = tf.nn.rnn_cell.GRUCell(num_units=hidden_size, dtype=tf.float32)\n",
        "    encoder_cell = tf.nn.rnn_cell.DropoutWrapper(encoder_cell, input_keep_prob=self.dropout_ph, dtype=tf.float32)\n",
        "    \n",
        "    # Create RNN with the predefined cell.\n",
        "    _, self.final_encoder_state = tf.nn.dynamic_rnn(cell=encoder_cell,\n",
        "                                                    inputs=self.input_batch_embedded,\n",
        "                                                    sequence_length=self.input_batch_lengths,\n",
        "                                                    dtype=tf.float32)"
      ],
      "execution_count": 0,
      "outputs": []
    },
    {
      "metadata": {
        "id": "G-KpWolx02IX",
        "colab_type": "code",
        "colab": {}
      },
      "cell_type": "code",
      "source": [
        "Seq2SeqModel.__build_encoder = classmethod(build_encoder)"
      ],
      "execution_count": 0,
      "outputs": []
    },
    {
      "metadata": {
        "id": "q52FV62D02Id",
        "colab_type": "text"
      },
      "cell_type": "markdown",
      "source": [
        "#### Decoder\n",
        "\n",
        "The second RNN is called a *decoder* and serves for generating the output sequence. In the simple seq2seq arcitecture, the input sequence is provided to the decoder only as the final state of the encoder. Obviously, it is a bottleneck and [Attention techniques](https://www.tensorflow.org/tutorials/seq2seq#background_on_the_attention_mechanism) can help to overcome it. So far, we do not need them to make our calculator work, but this would be a necessary ingredient for more advanced tasks. \n",
        "\n",
        "During training, decoder also uses information about the true output. It is feeded in as input symbol by symbol. However, during the prediction stage (which is called *inference* in this architecture), the decoder can only use its own generated output from the previous step to feed it in at the next step. Because of this difference (*training* vs *inference*), we will create two distinct instances, which will serve for the described scenarios.\n",
        "\n",
        "The picture below illustrates the point. It also shows our work with the special characters, e.g. look how the start symbol `^` is used. The transparent parts are ignored. In decoder, it is masked out in the loss computation. In encoder, the green state is considered as final and passed to the decoder. "
      ]
    },
    {
      "metadata": {
        "id": "azrragPf02Ip",
        "colab_type": "text"
      },
      "cell_type": "markdown",
      "source": [
        "<img src=\"https://github.com/hse-aml/natural-language-processing/blob/master/week4/encoder-decoder-pic.png?raw=1\" style=\"width: 500px;\">"
      ]
    },
    {
      "metadata": {
        "id": "pD9o9ytD02Ir",
        "colab_type": "text"
      },
      "cell_type": "markdown",
      "source": [
        "Now, it's time to implement the decoder:\n",
        " - First, we should create two [helpers](https://www.tensorflow.org/api_guides/python/contrib.seq2seq#Dynamic_Decoding). These classes help to determine the behaviour of the decoder. During the training time, we will use [TrainingHelper](https://www.tensorflow.org/api_docs/python/tf/contrib/seq2seq/TrainingHelper). For the inference we recommend to use [GreedyEmbeddingHelper](https://www.tensorflow.org/api_docs/python/tf/contrib/seq2seq/GreedyEmbeddingHelper).\n",
        " - To share all parameters during training and inference, we use one scope and set the flag 'reuse' to True at inference time. You might be interested to know more about how [variable scopes](https://www.tensorflow.org/programmers_guide/variables) work in TF. \n",
        " - To create the decoder itself, we will use [BasicDecoder](https://www.tensorflow.org/api_docs/python/tf/contrib/seq2seq/BasicDecoder) class. As previously, you should choose some RNN cell, e.g. GRU cell. To turn hidden states into logits, we will need a projection layer. One of the simple solutions is using [OutputProjectionWrapper](https://www.tensorflow.org/api_docs/python/tf/contrib/rnn/OutputProjectionWrapper).\n",
        " - For getting the predictions, it will be convinient to use [dynamic_decode](https://www.tensorflow.org/api_docs/python/tf/contrib/seq2seq/dynamic_decode). This function uses the provided decoder to perform decoding."
      ]
    },
    {
      "metadata": {
        "id": "WQX2rHH902It",
        "colab_type": "code",
        "colab": {}
      },
      "cell_type": "code",
      "source": [
        "def build_decoder(self, hidden_size, vocab_size, max_iter, start_symbol_id, end_symbol_id):\n",
        "    \"\"\"Specifies decoder architecture and computes the output.\n",
        "    \n",
        "        Uses different helpers:\n",
        "          - for train: feeding ground truth\n",
        "          - for inference: feeding generated output\n",
        "\n",
        "        As a result, self.train_outputs and self.infer_outputs are created. \n",
        "        Each of them contains two fields:\n",
        "          rnn_output (predicted logits)\n",
        "          sample_id (predictions).\n",
        "\n",
        "    \"\"\"\n",
        "    \n",
        "    # Use start symbols as the decoder inputs at the first time step.\n",
        "    batch_size = tf.shape(self.input_batch)[0]\n",
        "    start_tokens = tf.fill([batch_size], start_symbol_id)\n",
        "    ground_truth_as_input = tf.concat([tf.expand_dims(start_tokens, 1), self.ground_truth], 1)\n",
        "    \n",
        "    # Use the embedding layer defined before to lookup embedings for ground_truth_as_input. \n",
        "    self.ground_truth_embedded = tf.nn.embedding_lookup(params=self.embeddings, ids=ground_truth_as_input)\n",
        "     \n",
        "    # Create TrainingHelper for the train stage.\n",
        "    train_helper = tf.contrib.seq2seq.TrainingHelper(self.ground_truth_embedded, \n",
        "                                                     self.ground_truth_lengths)\n",
        "    \n",
        "    # Create GreedyEmbeddingHelper for the inference stage.\n",
        "    # You should provide the embedding layer, start_tokens and index of the end symbol.\n",
        "    infer_helper = tf.contrib.seq2seq.GreedyEmbeddingHelper(embedding= self.embeddings, start_tokens=start_tokens, end_token=end_symbol_id)\n",
        "    \n",
        "  \n",
        "    def decode(helper, scope, reuse=None):\n",
        "        \"\"\"Creates decoder and return the results of the decoding with a given helper.\"\"\"\n",
        "        \n",
        "        with tf.variable_scope(scope, reuse=reuse):\n",
        "            # Create GRUCell with dropout. Do not forget to set the reuse flag properly.\n",
        "            decoder_cell = tf.nn.rnn_cell.GRUCell(num_units=hidden_size, dtype=tf.float32, reuse=reuse)\n",
        "            decoder_cell = tf.nn.rnn_cell.DropoutWrapper(decoder_cell, input_keep_prob=self.dropout_ph) \n",
        "            \n",
        "            # Create a projection wrapper.\n",
        "            decoder_cell = tf.contrib.rnn.OutputProjectionWrapper(decoder_cell, vocab_size, reuse=reuse)\n",
        "            \n",
        "            # Create BasicDecoder, pass the defined cell, a helper, and initial state.\n",
        "            # The initial state should be equal to the final state of the encoder!\n",
        "            decoder = tf.contrib.seq2seq.BasicDecoder(cell=decoder_cell, helper=helper, initial_state=self.final_encoder_state)\n",
        "            \n",
        "            # The first returning argument of dynamic_decode contains two fields:\n",
        "            #   rnn_output (predicted logits)\n",
        "            #   sample_id (predictions)\n",
        "            outputs, _, _ = tf.contrib.seq2seq.dynamic_decode(decoder=decoder, maximum_iterations=max_iter, \n",
        "                                                              output_time_major=False, impute_finished=True)\n",
        "\n",
        "            return outputs\n",
        "        \n",
        "    self.train_outputs = decode(train_helper, 'decode')\n",
        "    self.infer_outputs = decode(infer_helper, 'decode', reuse=True)"
      ],
      "execution_count": 0,
      "outputs": []
    },
    {
      "metadata": {
        "id": "SbNA5WaR02Ix",
        "colab_type": "code",
        "colab": {}
      },
      "cell_type": "code",
      "source": [
        "Seq2SeqModel.__build_decoder = classmethod(build_decoder)"
      ],
      "execution_count": 0,
      "outputs": []
    },
    {
      "metadata": {
        "id": "GfnRpFu302I3",
        "colab_type": "text"
      },
      "cell_type": "markdown",
      "source": [
        "In this task we will use [sequence_loss](https://www.tensorflow.org/api_docs/python/tf/contrib/seq2seq/sequence_loss), which is a weighted cross-entropy loss for a sequence of logits. Take a moment to understand, what is your train logits and targets. Also note, that we do not want to take into account loss terms coming from padding symbols, so we will mask them out using weights.  "
      ]
    },
    {
      "metadata": {
        "id": "GNjI4D9102I5",
        "colab_type": "code",
        "colab": {}
      },
      "cell_type": "code",
      "source": [
        "def compute_loss(self):\n",
        "    \"\"\"Computes sequence loss (masked cross-entopy loss with logits).\"\"\"\n",
        "    \n",
        "    weights = tf.cast(tf.sequence_mask(self.ground_truth_lengths), dtype=tf.float32)\n",
        "    \n",
        "    self.loss = tf.contrib.seq2seq.sequence_loss(logits=self.train_outputs.rnn_output, targets=self.ground_truth, weights= weights)"
      ],
      "execution_count": 0,
      "outputs": []
    },
    {
      "metadata": {
        "id": "ZKCpgTZy02JE",
        "colab_type": "code",
        "colab": {}
      },
      "cell_type": "code",
      "source": [
        "Seq2SeqModel.__compute_loss = classmethod(compute_loss)"
      ],
      "execution_count": 0,
      "outputs": []
    },
    {
      "metadata": {
        "id": "tJYgc4DB02JJ",
        "colab_type": "text"
      },
      "cell_type": "markdown",
      "source": [
        "The last thing to specify is the optimization of the defined loss. \n",
        "We suggest that you use [optimize_loss](https://www.tensorflow.org/api_docs/python/tf/contrib/layers/optimize_loss) with Adam optimizer and a learning rate from the corresponding placeholder. You might also need to pass global step (e.g. as tf.train.get_global_step()) and clip gradients by 1.0."
      ]
    },
    {
      "metadata": {
        "id": "wIvTWJ7F02JK",
        "colab_type": "code",
        "colab": {}
      },
      "cell_type": "code",
      "source": [
        "def perform_optimization(self):\n",
        "    \"\"\"Specifies train_op that optimizes self.loss.\"\"\"\n",
        "    \n",
        "    self.train_op = tf.contrib.layers.optimize_loss(loss=self.loss,\n",
        "                                                    global_step=tf.train.get_global_step(),\n",
        "                                                    learning_rate= self.learning_rate_ph,\n",
        "                                                    optimizer='Adam',\n",
        "                                                    clip_gradients=1.0\n",
        "                                                   )"
      ],
      "execution_count": 0,
      "outputs": []
    },
    {
      "metadata": {
        "id": "tCsQEze302JR",
        "colab_type": "code",
        "colab": {}
      },
      "cell_type": "code",
      "source": [
        "Seq2SeqModel.__perform_optimization = classmethod(perform_optimization)"
      ],
      "execution_count": 0,
      "outputs": []
    },
    {
      "metadata": {
        "id": "u26nUTre02JV",
        "colab_type": "text"
      },
      "cell_type": "markdown",
      "source": [
        "Congratulations! You have specified all the parts of your network. You may have noticed, that we didn't deal with any real data yet, so what you have written is just recipies on how the network should function.\n",
        "Now we will put them to the constructor of our Seq2SeqModel class to use it in the next section. "
      ]
    },
    {
      "metadata": {
        "id": "N3WFk8Yr02JW",
        "colab_type": "code",
        "colab": {}
      },
      "cell_type": "code",
      "source": [
        "def init_model(self, vocab_size, embeddings_size, hidden_size, \n",
        "               max_iter, start_symbol_id, end_symbol_id, padding_symbol_id):\n",
        "    \n",
        "    self.__declare_placeholders()\n",
        "    self.__create_embeddings(vocab_size, embeddings_size)\n",
        "    self.__build_encoder(hidden_size)\n",
        "    self.__build_decoder(hidden_size, vocab_size, max_iter, start_symbol_id, end_symbol_id)\n",
        "    \n",
        "    # Compute loss and back-propagate.\n",
        "    self.__compute_loss()\n",
        "    self.__perform_optimization()\n",
        "    \n",
        "    # Get predictions for evaluation.\n",
        "    self.train_predictions = self.train_outputs.sample_id\n",
        "    self.infer_predictions = self.infer_outputs.sample_id"
      ],
      "execution_count": 0,
      "outputs": []
    },
    {
      "metadata": {
        "id": "-YVuxfw702Jb",
        "colab_type": "code",
        "colab": {}
      },
      "cell_type": "code",
      "source": [
        "Seq2SeqModel.__init__ = classmethod(init_model)"
      ],
      "execution_count": 0,
      "outputs": []
    },
    {
      "metadata": {
        "id": "DSMu8RUq02Jf",
        "colab_type": "text"
      },
      "cell_type": "markdown",
      "source": [
        "## Train the network and predict output\n",
        "\n",
        "[Session.run](https://www.tensorflow.org/api_docs/python/tf/Session#run) is a point which initiates computations in the graph that we have defined. To train the network, we need to compute *self.train_op*. To predict output, we just need to compute *self.infer_predictions*. In any case, we need to feed actual data through the placeholders that we defined above. "
      ]
    },
    {
      "metadata": {
        "id": "35K0qP0u02Ji",
        "colab_type": "code",
        "colab": {}
      },
      "cell_type": "code",
      "source": [
        "def train_on_batch(self, session, X, X_seq_len, Y, Y_seq_len, learning_rate, dropout_keep_probability):\n",
        "    feed_dict = {\n",
        "            self.input_batch: X,\n",
        "            self.input_batch_lengths: X_seq_len,\n",
        "            self.ground_truth: Y,\n",
        "            self.ground_truth_lengths: Y_seq_len,\n",
        "            self.learning_rate_ph: learning_rate,\n",
        "            self.dropout_ph: dropout_keep_probability\n",
        "        }\n",
        "    pred, loss, _ = session.run([\n",
        "            self.train_predictions,\n",
        "            self.loss,\n",
        "            self.train_op], feed_dict=feed_dict)\n",
        "    return pred, loss"
      ],
      "execution_count": 0,
      "outputs": []
    },
    {
      "metadata": {
        "id": "KL6Knnue02Jn",
        "colab_type": "code",
        "colab": {}
      },
      "cell_type": "code",
      "source": [
        "Seq2SeqModel.train_on_batch = classmethod(train_on_batch)"
      ],
      "execution_count": 0,
      "outputs": []
    },
    {
      "metadata": {
        "id": "DTxJb_Jg02Js",
        "colab_type": "text"
      },
      "cell_type": "markdown",
      "source": [
        "We implemented two prediction functions: *predict_for_batch* and *predict_for_batch_with_loss*. The first one allows only to predict output for some input sequence, while the second one could compute loss because we provide also ground truth values. Both these functions might be useful since the first one could be used for predicting only, and the second one is helpful for validating results on not-training data during the training."
      ]
    },
    {
      "metadata": {
        "id": "86THj5JN02Jv",
        "colab_type": "code",
        "colab": {}
      },
      "cell_type": "code",
      "source": [
        "def predict_for_batch(self, session, X, X_seq_len):\n",
        "    feed_dict = {\n",
        "        self.input_batch:X,\n",
        "        self.input_batch_lengths:X_seq_len}\n",
        "    pred = session.run([\n",
        "            self.infer_predictions\n",
        "        ], feed_dict=feed_dict)[0]\n",
        "    return pred\n",
        "\n",
        "def predict_for_batch_with_loss(self, session, X, X_seq_len, Y, Y_seq_len):\n",
        "    feed_dict = {self.input_batch:X, \n",
        "                 self.input_batch_lengths:X_seq_len, \n",
        "                 self.ground_truth:Y, \n",
        "                 self.ground_truth_lengths:Y_seq_len}\n",
        "    pred, loss = session.run([\n",
        "            self.infer_predictions,\n",
        "            self.loss,\n",
        "        ], feed_dict=feed_dict)\n",
        "    return pred, loss"
      ],
      "execution_count": 0,
      "outputs": []
    },
    {
      "metadata": {
        "id": "w_wXNEC_02Jz",
        "colab_type": "code",
        "colab": {}
      },
      "cell_type": "code",
      "source": [
        "Seq2SeqModel.predict_for_batch = classmethod(predict_for_batch)\n",
        "Seq2SeqModel.predict_for_batch_with_loss = classmethod(predict_for_batch_with_loss)"
      ],
      "execution_count": 0,
      "outputs": []
    },
    {
      "metadata": {
        "id": "9i-NqpBE02J4",
        "colab_type": "text"
      },
      "cell_type": "markdown",
      "source": [
        "## Run your experiment\n",
        "\n",
        "Create *Seq2SeqModel* model with the following parameters:\n",
        " - *vocab_size* — number of tokens;\n",
        " - *embeddings_size* — dimension of embeddings, recommended value: 20;\n",
        " - *max_iter* — maximum number of steps in decoder, recommended value: 7;\n",
        " - *hidden_size* — size of hidden layers for RNN, recommended value: 512;\n",
        " - *start_symbol_id* — an index of the start token (`^`).\n",
        " - *end_symbol_id* — an index of the end token (`$`).\n",
        " - *padding_symbol_id* — an index of the padding token (`#`).\n",
        "\n",
        "Set hyperparameters. You might want to start with the following values and see how it works:\n",
        "- *batch_size*: 128;\n",
        "- at least 10 epochs;\n",
        "- value of *learning_rate*: 0.001\n",
        "- *dropout_keep_probability* equals to 0.5 for training (typical values for dropout probability are ranging from 0.1 to 1.0); larger values correspond smaler number of dropout units;\n",
        "- *max_len*: 20."
      ]
    },
    {
      "metadata": {
        "id": "XHU1MOtz02J6",
        "colab_type": "code",
        "colab": {}
      },
      "cell_type": "code",
      "source": [
        "tf.reset_default_graph()\n",
        "\n",
        "model = Seq2SeqModel(vocab_size=len(word2id), \n",
        "                     embeddings_size=20, \n",
        "                     hidden_size=512, \n",
        "                     max_iter=7, \n",
        "                     start_symbol_id=word2id['^'], \n",
        "                     end_symbol_id=word2id['$'],\n",
        "                     padding_symbol_id=word2id['#'])\n",
        "\n",
        "batch_size = 128\n",
        "n_epochs = 10\n",
        "learning_rate = 0.001\n",
        "dropout_keep_probability = 0.5\n",
        "max_len = 20\n",
        "\n",
        "n_step = int(len(train_set) / batch_size)"
      ],
      "execution_count": 0,
      "outputs": []
    },
    {
      "metadata": {
        "id": "jAqih-n_02J_",
        "colab_type": "text"
      },
      "cell_type": "markdown",
      "source": [
        "Finally, we are ready to run the training! A good indicator that everything works fine is decreasing loss during the training. You should account on the loss value equal to approximately 2.7 at the beginning of the training and near 1 after the 10th epoch."
      ]
    },
    {
      "metadata": {
        "scrolled": true,
        "id": "0B2lVYla02KA",
        "colab_type": "code",
        "outputId": "de3397e5-cc7f-42af-ab04-aa3c4eaddeb2",
        "colab": {
          "base_uri": "https://localhost:8080/",
          "height": 3145
        }
      },
      "cell_type": "code",
      "source": [
        "session = tf.Session()\n",
        "session.run(tf.global_variables_initializer())\n",
        "            \n",
        "invalid_number_prediction_counts = []\n",
        "all_model_predictions = []\n",
        "all_ground_truth = []\n",
        "\n",
        "print('Start training... \\n')\n",
        "for epoch in range(n_epochs):  \n",
        "    random.shuffle(train_set)\n",
        "    random.shuffle(test_set)\n",
        "    \n",
        "    print('Train: epoch', epoch + 1)\n",
        "    for n_iter, (X_batch, Y_batch) in enumerate(generate_batches(train_set, batch_size=batch_size)):\n",
        "        # prepare the data (X_batch and Y_batch) for training\n",
        "        # using function batch_to_ids\n",
        "        X_batch_id, X_batch_len = batch_to_ids(sentences=X_batch, word2id=word2id, max_len=max_len)\n",
        "        Y_batch_id, Y_batch_len = batch_to_ids(sentences=Y_batch, word2id=word2id, max_len=max_len)\n",
        "        predictions, loss = model.train_on_batch(session, X_batch_id, X_batch_len, Y_batch_id, Y_batch_len, learning_rate, dropout_keep_probability)\n",
        "        \n",
        "        if n_iter % 200 == 0:\n",
        "            print(\"Epoch: [%d/%d], step: [%d/%d], loss: %f\" % (epoch + 1, n_epochs, n_iter + 1, n_step, loss))\n",
        "                \n",
        "    X_sent, Y_sent = next(generate_batches(test_set, batch_size=batch_size))\n",
        "    # prepare test data (X_sent and Y_sent) for predicting \n",
        "    # quality and computing value of the loss function\n",
        "    # using function batch_to_ids\n",
        "    X_sent_id, X_sent_len = batch_to_ids(sentences=X_sent, word2id=word2id, max_len=max_len)\n",
        "    Y_sent_id, Y_sent_len = batch_to_ids(sentences=Y_sent, word2id=word2id, max_len=max_len)\n",
        "      \n",
        "    predictions, loss = model.predict_for_batch_with_loss(session, X_sent_id, X_sent_len, Y_sent_id, Y_sent_len)\n",
        "    print('Test: epoch', epoch + 1, 'loss:', loss,)\n",
        "    for x, y, p  in list(zip(X_sent_id, Y_sent_id, predictions))[:3]:\n",
        "        print('X:',''.join(ids_to_sentence(x, id2word)))\n",
        "        print('Y:',''.join(ids_to_sentence(y, id2word)))\n",
        "        print('O:',''.join(ids_to_sentence(p, id2word)))\n",
        "        print('')\n",
        "\n",
        "    model_predictions = []\n",
        "    ground_truth = []\n",
        "    invalid_number_prediction_count = 0\n",
        "    # For the whole test set calculate ground-truth values (as integer numbers)\n",
        "    # and prediction values (also as integers) to calculate metrics.\n",
        "    # If generated by model number is not correct (e.g. '1-1'), \n",
        "    # increase invalid_number_prediction_count and don't append this and corresponding\n",
        "    # ground-truth value to the arrays.\n",
        "    for X_batch, Y_batch in generate_batches(test_set, batch_size=batch_size):\n",
        "        ######################################\n",
        "        ######### YOUR CODE HERE #############\n",
        "        ######################################\n",
        "        X_batch_id, X_batch_len = batch_to_ids(X_batch, word2id, max_len)\n",
        "        Y_batch_id, Y_batch_len = batch_to_ids(Y_batch, word2id, max_len)\n",
        "        preds = model.predict_for_batch(session, X_batch_id, X_batch_len)\n",
        "        \n",
        "        for p, y in zip(preds, Y_batch_id):\n",
        "          p = ''.join(ids_to_sentence(p,id2word))\n",
        "          y = ''.join(ids_to_sentence(y,id2word))\n",
        "          p = p[:p.index('$')]\n",
        "          y = y[:y.index('$')]\n",
        "          if p.isdigit() or (p.startswith('-') and p[1:].isdigit()):\n",
        "            model_predictions.append(int(p))\n",
        "            ground_truth.append(int(y))\n",
        "          else:\n",
        "            invalid_number_prediction_count+=1\n",
        "    \n",
        "    all_model_predictions.append(model_predictions)\n",
        "    all_ground_truth.append(ground_truth)\n",
        "    invalid_number_prediction_counts.append(invalid_number_prediction_count)\n",
        "            \n",
        "print('\\n...training finished.')"
      ],
      "execution_count": 0,
      "outputs": [
        {
          "output_type": "stream",
          "text": [
            "Start training... \n",
            "\n",
            "Train: epoch 1\n",
            "Epoch: [1/10], step: [1/625], loss: 2.691102\n",
            "Epoch: [1/10], step: [201/625], loss: 1.825144\n",
            "Epoch: [1/10], step: [401/625], loss: 1.778824\n",
            "Epoch: [1/10], step: [601/625], loss: 1.614371\n",
            "Test: epoch 1 loss: 1.586835\n",
            "X: 7625-2190$\n",
            "Y: 5435$#\n",
            "O: 6732$#\n",
            "\n",
            "X: 1510+399$#\n",
            "Y: 1909$#\n",
            "O: 3232$#\n",
            "\n",
            "X: 3897-698$#\n",
            "Y: 3199$#\n",
            "O: 3033$#\n",
            "\n",
            "Train: epoch 2\n",
            "Epoch: [2/10], step: [1/625], loss: 1.639951\n",
            "Epoch: [2/10], step: [201/625], loss: 1.593755\n",
            "Epoch: [2/10], step: [401/625], loss: 1.507452\n",
            "Epoch: [2/10], step: [601/625], loss: 1.509513\n",
            "Test: epoch 2 loss: 1.4414203\n",
            "X: 1186+2745$\n",
            "Y: 3931$#\n",
            "O: 4011$#\n",
            "\n",
            "X: 3624-4468$\n",
            "Y: -844$#\n",
            "O: -1099$\n",
            "\n",
            "X: 1303+6889$\n",
            "Y: 8192$#\n",
            "O: 8331$#\n",
            "\n",
            "Train: epoch 3\n",
            "Epoch: [3/10], step: [1/625], loss: 1.451237\n",
            "Epoch: [3/10], step: [201/625], loss: 1.431717\n",
            "Epoch: [3/10], step: [401/625], loss: 1.430843\n",
            "Epoch: [3/10], step: [601/625], loss: 1.368042\n",
            "Test: epoch 3 loss: 1.3414475\n",
            "X: 7301+8641$\n",
            "Y: 15942$\n",
            "O: 16333$\n",
            "\n",
            "X: 4505+9912$\n",
            "Y: 14417$\n",
            "O: 14999$\n",
            "\n",
            "X: 4368-4208$\n",
            "Y: 160$##\n",
            "O: -369$#\n",
            "\n",
            "Train: epoch 4\n",
            "Epoch: [4/10], step: [1/625], loss: 1.412087\n",
            "Epoch: [4/10], step: [201/625], loss: 1.346451\n",
            "Epoch: [4/10], step: [401/625], loss: 1.339300\n",
            "Epoch: [4/10], step: [601/625], loss: 1.361290\n",
            "Test: epoch 4 loss: 1.2798935\n",
            "X: 8692+357$#\n",
            "Y: 9049$#\n",
            "O: 9011$#\n",
            "\n",
            "X: 6848-7189$\n",
            "Y: -341$#\n",
            "O: -110$#\n",
            "\n",
            "X: 5496-9185$\n",
            "Y: -3689$\n",
            "O: -3769$\n",
            "\n",
            "Train: epoch 5\n",
            "Epoch: [5/10], step: [1/625], loss: 1.356698\n",
            "Epoch: [5/10], step: [201/625], loss: 1.363815\n",
            "Epoch: [5/10], step: [401/625], loss: 1.294186\n",
            "Epoch: [5/10], step: [601/625], loss: 1.277115\n",
            "Test: epoch 5 loss: 1.2213181\n",
            "X: 592-5137$#\n",
            "Y: -4545$\n",
            "O: -4777$\n",
            "\n",
            "X: 2744-8965$\n",
            "Y: -6221$\n",
            "O: -6288$\n",
            "\n",
            "X: 990-3487$#\n",
            "Y: -2497$\n",
            "O: -2666$\n",
            "\n",
            "Train: epoch 6\n",
            "Epoch: [6/10], step: [1/625], loss: 1.275743\n",
            "Epoch: [6/10], step: [201/625], loss: 1.237073\n",
            "Epoch: [6/10], step: [401/625], loss: 1.214043\n",
            "Epoch: [6/10], step: [601/625], loss: 1.130181\n",
            "Test: epoch 6 loss: 1.0728165\n",
            "X: 8324-4270$\n",
            "Y: 4054$#\n",
            "O: 3971$#\n",
            "\n",
            "X: 458-8715$#\n",
            "Y: -8257$\n",
            "O: -8211$\n",
            "\n",
            "X: 3179+3862$\n",
            "Y: 7041$#\n",
            "O: 7051$#\n",
            "\n",
            "Train: epoch 7\n",
            "Epoch: [7/10], step: [1/625], loss: 1.112317\n",
            "Epoch: [7/10], step: [201/625], loss: 1.118713\n",
            "Epoch: [7/10], step: [401/625], loss: 1.077546\n",
            "Epoch: [7/10], step: [601/625], loss: 1.043852\n",
            "Test: epoch 7 loss: 0.96686506\n",
            "X: 6848+7133$\n",
            "Y: 13981$\n",
            "O: 13966$\n",
            "\n",
            "X: 443-852$##\n",
            "Y: -409$#\n",
            "O: -396$#\n",
            "\n",
            "X: 1587+616$#\n",
            "Y: 2203$#\n",
            "O: 2166$#\n",
            "\n",
            "Train: epoch 8\n",
            "Epoch: [8/10], step: [1/625], loss: 1.065225\n",
            "Epoch: [8/10], step: [201/625], loss: 1.023378\n",
            "Epoch: [8/10], step: [401/625], loss: 1.046726\n",
            "Epoch: [8/10], step: [601/625], loss: 1.005168\n",
            "Test: epoch 8 loss: 0.967115\n",
            "X: 1787+1459$\n",
            "Y: 3246$#\n",
            "O: 3238$#\n",
            "\n",
            "X: 6803-9083$\n",
            "Y: -2280$\n",
            "O: -2297$\n",
            "\n",
            "X: 8589+3957$\n",
            "Y: 12546$\n",
            "O: 12523$\n",
            "\n",
            "Train: epoch 9\n",
            "Epoch: [9/10], step: [1/625], loss: 0.984357\n",
            "Epoch: [9/10], step: [201/625], loss: 0.991845\n",
            "Epoch: [9/10], step: [401/625], loss: 0.962362\n",
            "Epoch: [9/10], step: [601/625], loss: 0.975224\n",
            "Test: epoch 9 loss: 0.91535264\n",
            "X: 4097-3536$\n",
            "Y: 561$##\n",
            "O: 558$##\n",
            "\n",
            "X: 6577+5287$\n",
            "Y: 11864$\n",
            "O: 11897$\n",
            "\n",
            "X: 816+7310$#\n",
            "Y: 8126$#\n",
            "O: 8129$#\n",
            "\n",
            "Train: epoch 10\n",
            "Epoch: [10/10], step: [1/625], loss: 0.986886\n",
            "Epoch: [10/10], step: [201/625], loss: 0.959745\n",
            "Epoch: [10/10], step: [401/625], loss: 0.963946\n",
            "Epoch: [10/10], step: [601/625], loss: 0.935841\n",
            "Test: epoch 10 loss: 0.89054066\n",
            "X: 857-5085$#\n",
            "Y: -4228$\n",
            "O: -4215$\n",
            "\n",
            "X: 3525-8970$\n",
            "Y: -5445$\n",
            "O: -5421$\n",
            "\n",
            "X: 3121-4837$\n",
            "Y: -1716$\n",
            "O: -1735$\n",
            "\n",
            "\n",
            "...training finished.\n"
          ],
          "name": "stdout"
        }
      ]
    },
    {
      "metadata": {
        "id": "j-enzKty02KG",
        "colab_type": "text"
      },
      "cell_type": "markdown",
      "source": [
        "## Evaluate results\n",
        "\n",
        "Because our task is simple and the output is straight-forward, we will use [MAE](https://en.wikipedia.org/wiki/Mean_absolute_error) metric to evaluate the trained model during the epochs. Compute the value of the metric for the output from each epoch."
      ]
    },
    {
      "metadata": {
        "id": "EZfbsEE102KI",
        "colab_type": "code",
        "colab": {}
      },
      "cell_type": "code",
      "source": [
        "from sklearn.metrics import mean_absolute_error"
      ],
      "execution_count": 0,
      "outputs": []
    },
    {
      "metadata": {
        "id": "lsYr4gx-02KN",
        "colab_type": "code",
        "outputId": "a3f21696-ca92-4c73-eaae-00bca4ca190b",
        "colab": {
          "base_uri": "https://localhost:8080/",
          "height": 187
        }
      },
      "cell_type": "code",
      "source": [
        "for i, (gts, predictions, invalid_number_prediction_count) in enumerate(zip(all_ground_truth,\n",
        "                                                                            all_model_predictions,\n",
        "                                                                            invalid_number_prediction_counts), 1):\n",
        "    mae = mean_absolute_error(gts, predictions)\n",
        "    print(\"Epoch: %i, MAE: %f, Invalid numbers: %i\" % (i, mae, invalid_number_prediction_count))"
      ],
      "execution_count": 0,
      "outputs": [
        {
          "output_type": "stream",
          "text": [
            "Epoch: 1, MAE: 916.683850, Invalid numbers: 0\n",
            "Epoch: 2, MAE: 408.642000, Invalid numbers: 0\n",
            "Epoch: 3, MAE: 274.249300, Invalid numbers: 0\n",
            "Epoch: 4, MAE: 188.828250, Invalid numbers: 0\n",
            "Epoch: 5, MAE: 152.594650, Invalid numbers: 0\n",
            "Epoch: 6, MAE: 69.240850, Invalid numbers: 0\n",
            "Epoch: 7, MAE: 46.226550, Invalid numbers: 0\n",
            "Epoch: 8, MAE: 31.444550, Invalid numbers: 0\n",
            "Epoch: 9, MAE: 32.161700, Invalid numbers: 0\n",
            "Epoch: 10, MAE: 25.493800, Invalid numbers: 0\n"
          ],
          "name": "stdout"
        }
      ]
    },
    {
      "metadata": {
        "id": "GP9Mygo3-4Rx",
        "colab_type": "text"
      },
      "cell_type": "markdown",
      "source": [
        "## New Model with different hyperparameters"
      ]
    },
    {
      "metadata": {
        "id": "dcywy6F2-9Ir",
        "colab_type": "code",
        "colab": {}
      },
      "cell_type": "code",
      "source": [
        "tf.reset_default_graph()\n",
        "\n",
        "model = Seq2SeqModel(vocab_size=len(word2id), \n",
        "                     embeddings_size=20, \n",
        "                     hidden_size=512, \n",
        "                     max_iter=7, \n",
        "                     start_symbol_id=word2id['^'], \n",
        "                     end_symbol_id=word2id['$'],\n",
        "                     padding_symbol_id=word2id['#'])\n",
        "\n",
        "batch_size = 64\n",
        "n_epochs = 10\n",
        "learning_rate = 0.0005\n",
        "dropout_keep_probability = 0.3\n",
        "max_len = 20\n",
        "\n",
        "n_step = int(len(train_set) / batch_size)"
      ],
      "execution_count": 0,
      "outputs": []
    },
    {
      "metadata": {
        "id": "hcg-GGoS_Lww",
        "colab_type": "code",
        "outputId": "a589c271-d472-49a3-f734-380e9f61ebeb",
        "colab": {
          "base_uri": "https://localhost:8080/",
          "height": 3655
        }
      },
      "cell_type": "code",
      "source": [
        "session = tf.Session()\n",
        "session.run(tf.global_variables_initializer())\n",
        "            \n",
        "invalid_number_prediction_counts = []\n",
        "all_model_predictions = []\n",
        "all_ground_truth = []\n",
        "\n",
        "print('Start training... \\n')\n",
        "for epoch in range(n_epochs):  \n",
        "    random.shuffle(train_set)\n",
        "    random.shuffle(test_set)\n",
        "    \n",
        "    print('Train: epoch', epoch + 1)\n",
        "    for n_iter, (X_batch, Y_batch) in enumerate(generate_batches(train_set, batch_size=batch_size)):\n",
        "        # prepare the data (X_batch and Y_batch) for training\n",
        "        # using function batch_to_ids\n",
        "        X_batch_id, X_batch_len = batch_to_ids(sentences=X_batch, word2id=word2id, max_len=max_len)\n",
        "        Y_batch_id, Y_batch_len = batch_to_ids(sentences=Y_batch, word2id=word2id, max_len=max_len)\n",
        "        predictions, loss = model.train_on_batch(session, X_batch_id, X_batch_len, Y_batch_id, Y_batch_len, learning_rate, dropout_keep_probability)\n",
        "        \n",
        "        if n_iter % 200 == 0:\n",
        "            print(\"Epoch: [%d/%d], step: [%d/%d], loss: %f\" % (epoch + 1, n_epochs, n_iter + 1, n_step, loss))\n",
        "                \n",
        "    X_sent, Y_sent = next(generate_batches(test_set, batch_size=batch_size))\n",
        "    # prepare test data (X_sent and Y_sent) for predicting \n",
        "    # quality and computing value of the loss function\n",
        "    # using function batch_to_ids\n",
        "    X_sent_id, X_sent_len = batch_to_ids(sentences=X_sent, word2id=word2id, max_len=max_len)\n",
        "    Y_sent_id, Y_sent_len = batch_to_ids(sentences=Y_sent, word2id=word2id, max_len=max_len)\n",
        "      \n",
        "    predictions, loss = model.predict_for_batch_with_loss(session, X_sent_id, X_sent_len, Y_sent_id, Y_sent_len)\n",
        "    print('Test: epoch', epoch + 1, 'loss:', loss,)\n",
        "    for x, y, p  in list(zip(X_sent_id, Y_sent_id, predictions))[:3]:\n",
        "        print('X:',''.join(ids_to_sentence(x, id2word)))\n",
        "        print('Y:',''.join(ids_to_sentence(y, id2word)))\n",
        "        print('O:',''.join(ids_to_sentence(p, id2word)))\n",
        "        print('')\n",
        "\n",
        "    model_predictions = []\n",
        "    ground_truth = []\n",
        "    invalid_number_prediction_count = 0\n",
        "    # For the whole test set calculate ground-truth values (as integer numbers)\n",
        "    # and prediction values (also as integers) to calculate metrics.\n",
        "    # If generated by model number is not correct (e.g. '1-1'), \n",
        "    # increase invalid_number_prediction_count and don't append this and corresponding\n",
        "    # ground-truth value to the arrays.\n",
        "    for X_batch, Y_batch in generate_batches(test_set, batch_size=batch_size):\n",
        "        ######################################\n",
        "        ######### YOUR CODE HERE #############\n",
        "        ######################################\n",
        "        X_batch_id, X_batch_len = batch_to_ids(X_batch, word2id, max_len)\n",
        "        Y_batch_id, Y_batch_len = batch_to_ids(Y_batch, word2id, max_len)\n",
        "        preds = model.predict_for_batch(session, X_batch_id, X_batch_len)\n",
        "        \n",
        "        for p, y in zip(preds, Y_batch_id):\n",
        "          p = ''.join(ids_to_sentence(p,id2word))\n",
        "          y = ''.join(ids_to_sentence(y,id2word))\n",
        "          p = p[:p.index('$')]\n",
        "          y = y[:y.index('$')]\n",
        "          if p.isdigit() or (p.startswith('-') and p[1:].isdigit()):\n",
        "            model_predictions.append(int(p))\n",
        "            ground_truth.append(int(y))\n",
        "          else:\n",
        "            invalid_number_prediction_count+=1\n",
        "    \n",
        "    all_model_predictions.append(model_predictions)\n",
        "    all_ground_truth.append(ground_truth)\n",
        "    invalid_number_prediction_counts.append(invalid_number_prediction_count)\n",
        "            \n",
        "print('\\n...training finished.')"
      ],
      "execution_count": 40,
      "outputs": [
        {
          "output_type": "stream",
          "text": [
            "Start training... \n",
            "\n",
            "Train: epoch 1\n",
            "Epoch: [1/10], step: [1/1250], loss: 2.722895\n",
            "Epoch: [1/10], step: [201/1250], loss: 1.957892\n",
            "Epoch: [1/10], step: [401/1250], loss: 1.916164\n",
            "Epoch: [1/10], step: [601/1250], loss: 1.836869\n",
            "Epoch: [1/10], step: [801/1250], loss: 1.791466\n",
            "Epoch: [1/10], step: [1001/1250], loss: 1.796810\n",
            "Epoch: [1/10], step: [1201/1250], loss: 1.737190\n",
            "Test: epoch 1 loss: 1.6703417\n",
            "X: 1747+111$#\n",
            "Y: 1858$#\n",
            "O: 5522$#\n",
            "\n",
            "X: 3524-9712$\n",
            "Y: -6188$\n",
            "O: -5544$\n",
            "\n",
            "X: 6817+9676$\n",
            "Y: 16493$\n",
            "O: 14900$\n",
            "\n",
            "Train: epoch 2\n",
            "Epoch: [2/10], step: [1/1250], loss: 1.759285\n",
            "Epoch: [2/10], step: [201/1250], loss: 1.727804\n",
            "Epoch: [2/10], step: [401/1250], loss: 1.655620\n",
            "Epoch: [2/10], step: [601/1250], loss: 1.684087\n",
            "Epoch: [2/10], step: [801/1250], loss: 1.623450\n",
            "Epoch: [2/10], step: [1001/1250], loss: 1.643275\n",
            "Epoch: [2/10], step: [1201/1250], loss: 1.577286\n",
            "Test: epoch 2 loss: 1.5360183\n",
            "X: 6446+5907$\n",
            "Y: 12353$\n",
            "O: 12355$\n",
            "\n",
            "X: 2024+9454$\n",
            "Y: 11478$\n",
            "O: 10005$\n",
            "\n",
            "X: 9286-5601$\n",
            "Y: 3685$#\n",
            "O: 3333$#\n",
            "\n",
            "Train: epoch 3\n",
            "Epoch: [3/10], step: [1/1250], loss: 1.604447\n",
            "Epoch: [3/10], step: [201/1250], loss: 1.550760\n",
            "Epoch: [3/10], step: [401/1250], loss: 1.531888\n",
            "Epoch: [3/10], step: [601/1250], loss: 1.556545\n",
            "Epoch: [3/10], step: [801/1250], loss: 1.565257\n",
            "Epoch: [3/10], step: [1001/1250], loss: 1.516465\n",
            "Epoch: [3/10], step: [1201/1250], loss: 1.584098\n",
            "Test: epoch 3 loss: 1.4505196\n",
            "X: 7579-8701$\n",
            "Y: -1122$\n",
            "O: -1011$\n",
            "\n",
            "X: 6159+5583$\n",
            "Y: 11742$\n",
            "O: 11899$\n",
            "\n",
            "X: 7117+6150$\n",
            "Y: 13267$\n",
            "O: 13569$\n",
            "\n",
            "Train: epoch 4\n",
            "Epoch: [4/10], step: [1/1250], loss: 1.508937\n",
            "Epoch: [4/10], step: [201/1250], loss: 1.490877\n",
            "Epoch: [4/10], step: [401/1250], loss: 1.490844\n",
            "Epoch: [4/10], step: [601/1250], loss: 1.518425\n",
            "Epoch: [4/10], step: [801/1250], loss: 1.441458\n",
            "Epoch: [4/10], step: [1001/1250], loss: 1.520629\n",
            "Epoch: [4/10], step: [1201/1250], loss: 1.453041\n",
            "Test: epoch 4 loss: 1.4269799\n",
            "X: 1394+6901$\n",
            "Y: 8295$#\n",
            "O: 9511$#\n",
            "\n",
            "X: 7145+8054$\n",
            "Y: 15199$\n",
            "O: 15999$\n",
            "\n",
            "X: 4715-4734$\n",
            "Y: -19$##\n",
            "O: -111$#\n",
            "\n",
            "Train: epoch 5\n",
            "Epoch: [5/10], step: [1/1250], loss: 1.450171\n",
            "Epoch: [5/10], step: [201/1250], loss: 1.433215\n",
            "Epoch: [5/10], step: [401/1250], loss: 1.443425\n",
            "Epoch: [5/10], step: [601/1250], loss: 1.448233\n",
            "Epoch: [5/10], step: [801/1250], loss: 1.421529\n",
            "Epoch: [5/10], step: [1001/1250], loss: 1.420760\n",
            "Epoch: [5/10], step: [1201/1250], loss: 1.489449\n",
            "Test: epoch 5 loss: 1.4580615\n",
            "X: 6557-2694$\n",
            "Y: 3863$#\n",
            "O: 3788$#\n",
            "\n",
            "X: 1249-5173$\n",
            "Y: -3924$\n",
            "O: -2888$\n",
            "\n",
            "X: 2203+8260$\n",
            "Y: 10463$\n",
            "O: 10588$\n",
            "\n",
            "Train: epoch 6\n",
            "Epoch: [6/10], step: [1/1250], loss: 1.452561\n",
            "Epoch: [6/10], step: [201/1250], loss: 1.416971\n",
            "Epoch: [6/10], step: [401/1250], loss: 1.465591\n",
            "Epoch: [6/10], step: [601/1250], loss: 1.434989\n",
            "Epoch: [6/10], step: [801/1250], loss: 1.412278\n",
            "Epoch: [6/10], step: [1001/1250], loss: 1.376550\n",
            "Epoch: [6/10], step: [1201/1250], loss: 1.387378\n",
            "Test: epoch 6 loss: 1.5902386\n",
            "X: 6265+1026$\n",
            "Y: 7291$#\n",
            "O: 8424$#\n",
            "\n",
            "X: 2305-9288$\n",
            "Y: -6983$\n",
            "O: -6020$\n",
            "\n",
            "X: 4010+7486$\n",
            "Y: 11496$\n",
            "O: 11044$\n",
            "\n",
            "Train: epoch 7\n",
            "Epoch: [7/10], step: [1/1250], loss: 1.459780\n",
            "Epoch: [7/10], step: [201/1250], loss: 1.492495\n",
            "Epoch: [7/10], step: [401/1250], loss: 1.387073\n",
            "Epoch: [7/10], step: [601/1250], loss: 1.426552\n",
            "Epoch: [7/10], step: [801/1250], loss: 1.352474\n",
            "Epoch: [7/10], step: [1001/1250], loss: 1.451363\n",
            "Epoch: [7/10], step: [1201/1250], loss: 1.445889\n",
            "Test: epoch 7 loss: 1.4633111\n",
            "X: 7856+4819$\n",
            "Y: 12675$\n",
            "O: 12099$\n",
            "\n",
            "X: 395-3480$#\n",
            "Y: -3085$\n",
            "O: -3068$\n",
            "\n",
            "X: 3978-8577$\n",
            "Y: -4599$\n",
            "O: -4009$\n",
            "\n",
            "Train: epoch 8\n",
            "Epoch: [8/10], step: [1/1250], loss: 1.424122\n",
            "Epoch: [8/10], step: [201/1250], loss: 1.442454\n",
            "Epoch: [8/10], step: [401/1250], loss: 1.431986\n",
            "Epoch: [8/10], step: [601/1250], loss: 1.398388\n",
            "Epoch: [8/10], step: [801/1250], loss: 1.351105\n",
            "Epoch: [8/10], step: [1001/1250], loss: 1.344348\n",
            "Epoch: [8/10], step: [1201/1250], loss: 1.376622\n",
            "Test: epoch 8 loss: 1.62483\n",
            "X: 420-3865$#\n",
            "Y: -3445$\n",
            "O: -3355$\n",
            "\n",
            "X: 1761+6221$\n",
            "Y: 7982$#\n",
            "O: 9285$#\n",
            "\n",
            "X: 9505-6131$\n",
            "Y: 3374$#\n",
            "O: 1885$#\n",
            "\n",
            "Train: epoch 9\n",
            "Epoch: [9/10], step: [1/1250], loss: 1.322059\n",
            "Epoch: [9/10], step: [201/1250], loss: 1.338648\n",
            "Epoch: [9/10], step: [401/1250], loss: 1.384586\n",
            "Epoch: [9/10], step: [601/1250], loss: 1.300714\n",
            "Epoch: [9/10], step: [801/1250], loss: 1.372111\n",
            "Epoch: [9/10], step: [1001/1250], loss: 1.350080\n",
            "Epoch: [9/10], step: [1201/1250], loss: 1.305267\n",
            "Test: epoch 9 loss: 1.5064876\n",
            "X: 7279-8195$\n",
            "Y: -916$#\n",
            "O: -1059$\n",
            "\n",
            "X: 4686-732$#\n",
            "Y: 3954$#\n",
            "O: 3595$#\n",
            "\n",
            "X: 6087-482$#\n",
            "Y: 5605$#\n",
            "O: 5949$#\n",
            "\n",
            "Train: epoch 10\n",
            "Epoch: [10/10], step: [1/1250], loss: 1.325518\n",
            "Epoch: [10/10], step: [201/1250], loss: 1.322922\n",
            "Epoch: [10/10], step: [401/1250], loss: 1.250697\n",
            "Epoch: [10/10], step: [601/1250], loss: 1.263337\n",
            "Epoch: [10/10], step: [801/1250], loss: 1.234796\n",
            "Epoch: [10/10], step: [1001/1250], loss: 1.321873\n",
            "Epoch: [10/10], step: [1201/1250], loss: 1.262722\n",
            "Test: epoch 10 loss: 1.4827553\n",
            "X: 7138-9602$\n",
            "Y: -2464$\n",
            "O: -2401$\n",
            "\n",
            "X: 3885+468$#\n",
            "Y: 4353$#\n",
            "O: 4343$#\n",
            "\n",
            "X: 2699+5812$\n",
            "Y: 8511$#\n",
            "O: 8533$#\n",
            "\n",
            "\n",
            "...training finished.\n"
          ],
          "name": "stdout"
        }
      ]
    },
    {
      "metadata": {
        "id": "0soh7JYp_Omd",
        "colab_type": "code",
        "outputId": "33ba92f3-7869-439b-fd91-cb8d77d2e134",
        "colab": {
          "base_uri": "https://localhost:8080/",
          "height": 187
        }
      },
      "cell_type": "code",
      "source": [
        "for i, (gts, predictions, invalid_number_prediction_count) in enumerate(zip(all_ground_truth,\n",
        "                                                                            all_model_predictions,\n",
        "                                                                            invalid_number_prediction_counts), 1):\n",
        "    mae = mean_absolute_error(gts, predictions)\n",
        "    print(\"Epoch: %i, MAE: %f, Invalid numbers: %i\" % (i, mae, invalid_number_prediction_count))"
      ],
      "execution_count": 43,
      "outputs": [
        {
          "output_type": "stream",
          "text": [
            "Epoch: 1, MAE: 1559.257300, Invalid numbers: 0\n",
            "Epoch: 2, MAE: 621.185850, Invalid numbers: 0\n",
            "Epoch: 3, MAE: 465.010850, Invalid numbers: 0\n",
            "Epoch: 4, MAE: 544.091550, Invalid numbers: 0\n",
            "Epoch: 5, MAE: 485.168750, Invalid numbers: 0\n",
            "Epoch: 6, MAE: 641.686500, Invalid numbers: 0\n",
            "Epoch: 7, MAE: 630.911000, Invalid numbers: 0\n",
            "Epoch: 8, MAE: 574.720850, Invalid numbers: 0\n",
            "Epoch: 9, MAE: 593.147850, Invalid numbers: 0\n",
            "Epoch: 10, MAE: 562.684500, Invalid numbers: 0\n"
          ],
          "name": "stdout"
        }
      ]
    },
    {
      "metadata": {
        "id": "rcVtW-a2_WUE",
        "colab_type": "code",
        "colab": {}
      },
      "cell_type": "code",
      "source": [
        ""
      ],
      "execution_count": 0,
      "outputs": []
    }
  ]
}